{
 "cells": [
  {
   "cell_type": "code",
   "execution_count": 1,
   "metadata": {},
   "outputs": [],
   "source": [
    "import numpy as np\n",
    "import pandas\n",
    "import joblib"
   ]
  },
  {
   "cell_type": "code",
   "execution_count": 2,
   "metadata": {},
   "outputs": [],
   "source": [
    "model = joblib.load('model.ah')\n",
    "scaler = joblib.load('scaler.ah')"
   ]
  },
  {
   "cell_type": "code",
   "execution_count": 3,
   "metadata": {},
   "outputs": [],
   "source": [
    "x=['Year', 'Kilometers_Driven','Mileage', 'Engine', 'Power', 'Seats',\n",
    "        'Name', 'Location', 'Fuel_Type',\n",
    "       'Transmission', 'Owner_Type']"
   ]
  },
  {
   "cell_type": "code",
   "execution_count": 4,
   "metadata": {},
   "outputs": [
    {
     "name": "stdout",
     "output_type": "stream",
     "text": [
      "Year: \n",
      "2010\n",
      "Kilometers_Driven: \n",
      "72000\t\n",
      "Mileage: \n",
      "26.60\n",
      "Engine: \n",
      "998\n",
      "Power: \n",
      "58\n",
      "Seats: \n",
      "5\n",
      "Name: \n",
      "17\n",
      "Location: \n",
      "9\n",
      "Fuel_Type: \n",
      "0\n",
      "Transmission: \n",
      "1\n",
      "Owner_Type: \n",
      "0\n"
     ]
    }
   ],
   "source": [
    "data = []\n",
    "for inp in x:\n",
    "    print(f'{inp}: ')\n",
    "    val = float(input())\n",
    "    data.append(val)"
   ]
  },
  {
   "cell_type": "code",
   "execution_count": 5,
   "metadata": {},
   "outputs": [
    {
     "data": {
      "text/plain": [
       "[2010.0, 72000.0, 26.6, 998.0, 58.0, 5.0, 17.0, 9.0, 0.0, 1.0, 0.0]"
      ]
     },
     "execution_count": 5,
     "metadata": {},
     "output_type": "execute_result"
    }
   ],
   "source": [
    "data"
   ]
  },
  {
   "cell_type": "code",
   "execution_count": 6,
   "metadata": {},
   "outputs": [
    {
     "name": "stderr",
     "output_type": "stream",
     "text": [
      "C:\\Anaconda3\\lib\\site-packages\\sklearn\\base.py:446: UserWarning: X does not have valid feature names, but StandardScaler was fitted with feature names\n",
      "  \"X does not have valid feature names, but\"\n"
     ]
    },
    {
     "data": {
      "text/plain": [
       "array([254841.69], dtype=float32)"
      ]
     },
     "execution_count": 6,
     "metadata": {},
     "output_type": "execute_result"
    }
   ],
   "source": [
    "result = model.predict(scaler.transform([data]))\n",
    "result"
   ]
  }
 ],
 "metadata": {
  "kernelspec": {
   "display_name": "Python 3",
   "language": "python",
   "name": "python3"
  },
  "language_info": {
   "codemirror_mode": {
    "name": "ipython",
    "version": 3
   },
   "file_extension": ".py",
   "mimetype": "text/x-python",
   "name": "python",
   "nbconvert_exporter": "python",
   "pygments_lexer": "ipython3",
   "version": "3.7.6"
  }
 },
 "nbformat": 4,
 "nbformat_minor": 4
}
